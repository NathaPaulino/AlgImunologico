{
 "cells": [
  {
   "cell_type": "code",
   "execution_count": 1,
   "metadata": {},
   "outputs": [],
   "source": [
    "import numpy as np"
   ]
  },
  {
   "cell_type": "code",
   "execution_count": 4,
   "metadata": {},
   "outputs": [],
   "source": [
    "def random_matrix(n_rows,n_cols,a,b):\n",
    "    \n",
    "    np_population = (b - a) * np.random.random_sample((n_rows,n_cols)) + a\n",
    "    \n",
    "    return np_population"
   ]
  },
  {
   "cell_type": "code",
   "execution_count": 5,
   "metadata": {},
   "outputs": [],
   "source": [
    "def random_array(n, a, b):\n",
    "    \n",
    "    rand_array = (b - a) * np.random.random_sample((n,)) + a\n",
    "    \n",
    "    return rand_array"
   ]
  },
  {
   "cell_type": "markdown",
   "metadata": {},
   "source": [
    "## Algoritmo Imunológico - CloneAlg"
   ]
  },
  {
   "cell_type": "code",
   "execution_count": 9,
   "metadata": {},
   "outputs": [],
   "source": [
    "class CA:\n",
    "    \n",
    "    def infection(self, population):\n",
    "        # Cria-se uma nova populção de N termos iguais a cada termo anterior\n",
    "        \n",
    "        infected_population = np.array([])\n",
    "        \n",
    "        for x, value in enumerate(population):\n",
    "            infected_population = np.append(infected_population,population[x])\n",
    "            infected_population = np.append(infected_population,population[x])\n",
    "            infected_population = np.append(infected_population,population[x])\n",
    "            infected_population = np.append(infected_population,population[x])\n",
    "            infected_population = np.append(infected_population,population[x])\n",
    "            \n",
    "        return infected_population\n",
    "    \n",
    "    def mutation()"
   ]
  },
  {
   "cell_type": "code",
   "execution_count": 7,
   "metadata": {},
   "outputs": [
    {
     "name": "stdout",
     "output_type": "stream",
     "text": [
      "[[5.91468017 9.64953584]\n",
      " [3.78594155 7.55599949]]\n"
     ]
    }
   ],
   "source": [
    "pop = random_matrix(2,2,0,10)\n",
    "print(pop)"
   ]
  },
  {
   "cell_type": "code",
   "execution_count": 10,
   "metadata": {},
   "outputs": [],
   "source": [
    "ca = CA()"
   ]
  },
  {
   "cell_type": "code",
   "execution_count": 11,
   "metadata": {},
   "outputs": [
    {
     "data": {
      "text/plain": [
       "array([5.91468017, 9.64953584, 5.91468017, 9.64953584, 5.91468017,\n",
       "       9.64953584, 5.91468017, 9.64953584, 5.91468017, 9.64953584,\n",
       "       3.78594155, 7.55599949, 3.78594155, 7.55599949, 3.78594155,\n",
       "       7.55599949, 3.78594155, 7.55599949, 3.78594155, 7.55599949])"
      ]
     },
     "execution_count": 11,
     "metadata": {},
     "output_type": "execute_result"
    }
   ],
   "source": [
    "ca.infection(pop)"
   ]
  },
  {
   "cell_type": "code",
   "execution_count": null,
   "metadata": {},
   "outputs": [],
   "source": []
  }
 ],
 "metadata": {
  "kernelspec": {
   "display_name": "Python 3",
   "language": "python",
   "name": "python3"
  }
 },
 "nbformat": 4,
 "nbformat_minor": 2
}
