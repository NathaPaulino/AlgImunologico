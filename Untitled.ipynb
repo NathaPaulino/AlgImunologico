{
 "cells": [
  {
   "cell_type": "code",
   "execution_count": 1,
   "metadata": {},
   "outputs": [],
   "source": [
    "import numpy as np"
   ]
  },
  {
   "cell_type": "code",
   "execution_count": 4,
   "metadata": {},
   "outputs": [],
   "source": [
    "def random_matrix(n_rows,n_cols,a,b):\n",
    "    \n",
    "    np_population = (b - a) * np.random.random_sample((n_rows,n_cols)) + a\n",
    "    \n",
    "    return np_population"
   ]
  },
  {
   "cell_type": "code",
   "execution_count": 5,
   "metadata": {},
   "outputs": [],
   "source": [
    "def random_array(n, a, b):\n",
    "    \n",
    "    rand_array = (b - a) * np.random.random_sample((n,)) + a\n",
    "    \n",
    "    return rand_array"
   ]
  },
  {
   "cell_type": "markdown",
   "metadata": {},
   "source": [
    "## Algoritmo Imunológico - CloneAlg"
   ]
  },
  {
   "cell_type": "code",
   "execution_count": 9,
   "metadata": {},
   "outputs": [],
   "source": [
    "class CA:\n",
    "    \n",
    "    def infection(self, original_population):\n",
    "        # Cria-se uma nova populção de N indivíduos iguais a cada indivíduo da população inicial \n",
    "        \n",
    "        \n",
    "        infected_population = np.array([])\n",
    "        \n",
    "        # A ideia aqui é criar uma nova matriz que as posições 0 (indivíduo original) + (N-1) posições próximas,  \n",
    "        # sejam relativas ao mesmo indivíduo.\n",
    "        \n",
    "        for x, value in enumerate(population):\n",
    "            infected_population = np.append(infected_population,original_population[x])\n",
    "            infected_population = np.append(infected_population,original_population[x])\n",
    "            infected_population = np.append(infected_population,original_population[x])\n",
    "            infected_population = np.append(infected_population,original_population[x])\n",
    "            infected_population = np.append(infected_population,original_population[x])\n",
    "            \n",
    "        return infected_population\n",
    "    \n",
    "    \n",
    "    def mutation(self, new_generation, mutation_tax):\n",
    "        # Esquema de mutação idêntico ao genético, porém muta-se todos os indiviíduos da geração de clones\n",
    "        # (N-1) e em seguida\n",
    "        mutated_population = np.copy(new_generation)\n",
    "\n",
    "        random = random_matrix(mutated_population.shape[0], mutated_population.shape[1],0,1)\n",
    "        who_mutate = random < mutation_tax # boolean array containning who to mutate\n",
    "\n",
    "        #what values we're going to apply to the mutation\n",
    "        mutation_values = random_matrix(mutated_population.shape[0], mutated_population.shape[1],-1,1)\n",
    "\n",
    "        #matrix operation\n",
    "        mutated_population = mutated_population + (who_mutate*mutation_values)\n",
    "\n",
    "        return mutated_population\n",
    "    \n",
    "    \n",
    "    def reduction(self, original_population):\n",
    "        #func(x) = prod of sqrt(x)*sin(x)\n",
    "        \n",
    "        # Avalia-se a nova matriz infectada e mutada, a partir disso, verifica se posições 0 a  \n",
    "        # ao clone, que apresenta maior valor da função de aptidão.      \n",
    "        apt = np.prod(np.sqrt(population)*np.sin(population), axis=1)\n",
    "\n",
    "        min_glob = 7.0\n",
    "        apt_norm = apt + min_glob #nomalize\n",
    "        \n",
    "        \n",
    "        #wheel\n",
    "        bound_apt = np.array([])\n",
    "        for x, value in enumerate(apt_norm):\n",
    "            bound_apt = np.append(bound_apt, np.sum(apt_norm[:x+1])) #n[x] += n[x-1]\n",
    "\n",
    "        #random array to compare to the wheel\n",
    "        compare_values = random_array(apt_norm.shape[0],min(bound_apt),max(bound_apt)) \n",
    "\n",
    "        pairs = np.array([])\n",
    "        for x, value in enumerate(compare_values):\n",
    "            #where return all positions that our random value is bigger than our wheel\n",
    "            loc = np.where(compare_values[x] > bound_apt) \n",
    "            #append in pairs the maximum position found +1\n",
    "            pairs = np.append(pairs, (np.amax(loc, initial=0)+1)) \n",
    "            \n",
    "        pairs=pairs.astype(int)\n",
    "        pairs = pairs.reshape(population.shape[0]//2,population.shape[1]) #pair of chomossomes\n",
    "\n",
    "        return pairs\n",
    "    \n",
    "    \n",
    "    def fit(self, population, crossover_tax=0.7, mutation_tax=0.1, generations=10, \n",
    "            early_stopping=False, verbose=False):\n",
    "\n",
    "        pop = np.copy(population)\n",
    "        \n",
    "\n",
    "        for itr in range(generations):\n",
    "            pairs = self.selection(pop)\n",
    "            #print(\"entrada: \\n{}\".format(self.population[:5]))\n",
    "            new_generation = self.crossover(pop, pairs, crossover_tax)\n",
    "            mutated_population = self.mutation(new_generation, mutation_tax)\n",
    "\n",
    "            fit_value = np.sum(mutated_population)/pop.shape[0]\n",
    "            #print(\"saida: \\n{}\".format(self.population[:5]))\n",
    "            pop = np.copy(mutated_population)"
   ]
  },
  {
   "cell_type": "code",
   "execution_count": 7,
   "metadata": {},
   "outputs": [
    {
     "name": "stdout",
     "output_type": "stream",
     "text": [
      "[[5.91468017 9.64953584]\n",
      " [3.78594155 7.55599949]]\n"
     ]
    }
   ],
   "source": [
    "pop = random_matrix(2,2,0,10)\n",
    "print(pop)"
   ]
  },
  {
   "cell_type": "code",
   "execution_count": 10,
   "metadata": {},
   "outputs": [],
   "source": [
    "ca = CA()"
   ]
  },
  {
   "cell_type": "code",
   "execution_count": 11,
   "metadata": {},
   "outputs": [
    {
     "data": {
      "text/plain": [
       "array([5.91468017, 9.64953584, 5.91468017, 9.64953584, 5.91468017,\n",
       "       9.64953584, 5.91468017, 9.64953584, 5.91468017, 9.64953584,\n",
       "       3.78594155, 7.55599949, 3.78594155, 7.55599949, 3.78594155,\n",
       "       7.55599949, 3.78594155, 7.55599949, 3.78594155, 7.55599949])"
      ]
     },
     "execution_count": 11,
     "metadata": {},
     "output_type": "execute_result"
    }
   ],
   "source": [
    "ca.infection(pop)"
   ]
  },
  {
   "cell_type": "code",
   "execution_count": null,
   "metadata": {},
   "outputs": [],
   "source": []
  }
 ],
 "metadata": {
  "kernelspec": {
   "display_name": "Python 3",
   "language": "python",
   "name": "python3"
  },
  "language_info": {
   "codemirror_mode": {
    "name": "ipython",
    "version": 3
   },
   "file_extension": ".py",
   "mimetype": "text/x-python",
   "name": "python",
   "nbconvert_exporter": "python",
   "pygments_lexer": "ipython3",
   "version": "3.7.3"
  }
 },
 "nbformat": 4,
 "nbformat_minor": 2
}
